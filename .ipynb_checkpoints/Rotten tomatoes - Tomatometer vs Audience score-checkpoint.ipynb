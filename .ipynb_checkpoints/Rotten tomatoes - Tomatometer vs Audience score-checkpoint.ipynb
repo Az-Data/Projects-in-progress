{
 "cells": [
  {
   "cell_type": "markdown",
   "metadata": {},
   "source": [
    "# Tomatometer vs Audience score\n",
    "\n",
    "Rotten tomatoes (RT) is a 'Review aggregation website' whose primary function is to rate movies and TV shows. Here professional critics review and rate the piece, and the website produces an aggregation of that score which they call the tomatometer. Rotten tomatoes also presents another score, the audience score, which is an aggregate of reviews by passionate movie viewers. Besides the famous review scores, Rotten tomatoes also contains information on cast, personal biographies, plot summaries, list posts as well as a podcast. I would like to compare the two sets of scores in few different ways:\n",
    "\n",
    "1) Visualise the distributions of the two sets of scores in a simple histogram. \n",
    "2) We will be using a T-test to test if the difference in the means of the two sets of scores are statistically significant.\n",
    "3) Visualise and compare the relative difference between the audience score and the tomatometer score for each movie. "
   ]
  },
  {
   "cell_type": "markdown",
   "metadata": {},
   "source": [
    "## Preparing the data"
   ]
  },
  {
   "cell_type": "code",
   "execution_count": 1,
   "metadata": {},
   "outputs": [],
   "source": [
    "import pandas as pd\n",
    "import matplotlib.pyplot as plt\n",
    "import seaborn as sns\n",
    "import numpy as np\n",
    "plt.rcParams['figure.figsize'] = [14, 10]\n",
    "sns.set_style('white')\n",
    "\n",
    "import warnings\n",
    "warnings.filterwarnings(action = 'ignore')"
   ]
  },
  {
   "cell_type": "code",
   "execution_count": 2,
   "metadata": {},
   "outputs": [
    {
     "data": {
      "text/plain": [
       "'size of dataset: 16386'"
      ]
     },
     "metadata": {},
     "output_type": "display_data"
    },
    {
     "data": {
      "text/html": [
       "<div>\n",
       "<style scoped>\n",
       "    .dataframe tbody tr th:only-of-type {\n",
       "        vertical-align: middle;\n",
       "    }\n",
       "\n",
       "    .dataframe tbody tr th {\n",
       "        vertical-align: top;\n",
       "    }\n",
       "\n",
       "    .dataframe thead th {\n",
       "        text-align: right;\n",
       "    }\n",
       "</style>\n",
       "<table border=\"1\" class=\"dataframe\">\n",
       "  <thead>\n",
       "    <tr style=\"text-align: right;\">\n",
       "      <th></th>\n",
       "      <th>movie_title</th>\n",
       "      <th>tomatometer_rating</th>\n",
       "      <th>audience_rating</th>\n",
       "    </tr>\n",
       "  </thead>\n",
       "  <tbody>\n",
       "    <tr>\n",
       "      <th>0</th>\n",
       "      <td>Percy Jackson &amp; the Olympians: The Lightning T...</td>\n",
       "      <td>49</td>\n",
       "      <td>53</td>\n",
       "    </tr>\n",
       "    <tr>\n",
       "      <th>1</th>\n",
       "      <td>Please Give</td>\n",
       "      <td>86</td>\n",
       "      <td>64</td>\n",
       "    </tr>\n",
       "    <tr>\n",
       "      <th>2</th>\n",
       "      <td>10</td>\n",
       "      <td>68</td>\n",
       "      <td>53</td>\n",
       "    </tr>\n",
       "    <tr>\n",
       "      <th>3</th>\n",
       "      <td>12 Angry Men (Twelve Angry Men)</td>\n",
       "      <td>100</td>\n",
       "      <td>97</td>\n",
       "    </tr>\n",
       "    <tr>\n",
       "      <th>4</th>\n",
       "      <td>20,000 Leagues Under The Sea</td>\n",
       "      <td>89</td>\n",
       "      <td>74</td>\n",
       "    </tr>\n",
       "  </tbody>\n",
       "</table>\n",
       "</div>"
      ],
      "text/plain": [
       "                                         movie_title  tomatometer_rating  \\\n",
       "0  Percy Jackson & the Olympians: The Lightning T...                  49   \n",
       "1                                        Please Give                  86   \n",
       "2                                                 10                  68   \n",
       "3                    12 Angry Men (Twelve Angry Men)                 100   \n",
       "4                       20,000 Leagues Under The Sea                  89   \n",
       "\n",
       "   audience_rating  \n",
       "0               53  \n",
       "1               64  \n",
       "2               53  \n",
       "3               97  \n",
       "4               74  "
      ]
     },
     "metadata": {},
     "output_type": "display_data"
    }
   ],
   "source": [
    "# rotten tomatoes data\n",
    "rt = pd.read_csv(r'C:\\Users\\harpo\\Documents\\Datasets\\Movies\\rotten_tomatoes_movies.csv')\n",
    "\n",
    "#display(rt.head())\n",
    "\n",
    "# reducing the dataset down to just the movie title, and the two scores\n",
    "rt_ratings = rt[['movie_title', 'tomatometer_rating', 'audience_rating']]\n",
    "rt_ratings.dropna(inplace=True)\n",
    "rt_ratings['audience_rating'] = rt_ratings['audience_rating'].astype(int)\n",
    "\n",
    "display(f'size of dataset: {len(rt_ratings)}')\n",
    "display(rt_ratings.head())"
   ]
  },
  {
   "cell_type": "markdown",
   "metadata": {},
   "source": [
    "# Plotting the distribution of the scores"
   ]
  },
  {
   "cell_type": "code",
   "execution_count": 3,
   "metadata": {},
   "outputs": [
    {
     "data": {
      "image/png": "[encoded data removed]",
      "text/plain": [
       "<Figure size 1008x720 with 1 Axes>"
      ]
     },
     "metadata": {},
     "output_type": "display_data"
    }
   ],
   "source": [
    "def distribution_plot(series, title, x_label, bar_color='tab:blue'):\n",
    "    \"\"\"\n",
    "    Creates a histogram of the input series with 100 bins. \n",
    "    \n",
    "    Input:\n",
    "    series - pandas series\n",
    "    title - (string) title of histogram\n",
    "    x_label - x-axis label\n",
    "    bar_color - color of the bars in the histogram (default: 'tab: blue')\n",
    "    \n",
    "    Output:\n",
    "    Histogram of input series with 100 bins\n",
    "    \"\"\"\n",
    "    series.sort_values().plot(kind='hist', bins=100, color=bar_color)\n",
    "    sns.despine(bottom=True, left=True)\n",
    "    plt.xlabel(x_label, fontsize=13)\n",
    "    plt.ylabel('Frequency', fontsize=13)\n",
    "    plt.title(title, fontsize=15)\n",
    "    plt.show\n",
    "\n",
    "# distribution of the tomatometer ratings\n",
    "distribution_plot(rt_ratings['tomatometer_rating'], \n",
    "                  title='Tomatometer Distribution',\n",
    "                  x_label='Tomatometer Score')"
   ]
  },
  {
   "cell_type": "code",
   "execution_count": 4,
   "metadata": {},
   "outputs": [
    {
     "data": {
      "image/png": "[encoded data removed]",
      "text/plain": [
       "<Figure size 1008x720 with 1 Axes>"
      ]
     },
     "metadata": {},
     "output_type": "display_data"
    }
   ],
   "source": [
    "# distribution of the audience score\n",
    "distribution_plot(rt_ratings['audience_rating'], \n",
    "                  title='Audience Score Distribution',\n",
    "                  bar_color='tab:orange',\n",
    "                  x_label='Audience Score')"
   ]
  },
  {
   "cell_type": "markdown",
   "metadata": {},
   "source": [
    "The audience score is far more normally distributed compared to the critics scores. This is very interesting, because it shows that there is more consensus between the audience compared to the critics.\n",
    "\n",
    "I am not sure how appropriate it would be to do the statistical test to compare the two sample means, when one of the sets of data is not normally distributed, but we will find out how well the t-test preforms."
   ]
  },
  {
   "cell_type": "markdown",
   "metadata": {},
   "source": [
    "## Paired t-test\n",
    "\n",
    "So the parameters is as follows:\n",
    "- We have a large sample (n > 30).\n",
    "- With continous variables needed to be tested (audience score and tomatometer score).\n",
    "- We have two sets of paired samples, since each movie has a corresponding tomatometer score and an audience score. \n",
    "So we prefrom a <b>Paired t-test</b> from the scipy module."
   ]
  },
  {
   "cell_type": "markdown",
   "metadata": {},
   "source": [
    "### Hypothesis testing\n",
    "\n",
    "Null hypothesis: The means are not different.\n",
    "\n",
    "$$H_0 : \\mu_t = \\mu_a$$\n",
    "\n",
    "Where $\\mu_t$ is the tomatometer score mean, and $\\mu_a$ is the audience score mean.\n",
    "\n",
    "Alternative hypothesis: There is a difference between the means of the tomatometer and audience scores.\n",
    "\n",
    "$$H_1 : \\mu_t \\neq \\mu_a$$\n",
    "\n",
    "We will pick the confidence interval at 95%.\n",
    "\n",
    "$$\\alpha = 0.05$$"
   ]
  },
  {
   "cell_type": "code",
   "execution_count": 5,
   "metadata": {},
   "outputs": [
    {
     "data": {
      "text/plain": [
       "Ttest_relResult(statistic=-0.8492704023702629, pvalue=0.3957432542089552)"
      ]
     },
     "metadata": {},
     "output_type": "display_data"
    }
   ],
   "source": [
    "from scipy import stats\n",
    "\n",
    "test_statistic = stats.ttest_rel(rt_ratings['tomatometer_rating'], rt_ratings['audience_rating'])\n",
    "\n",
    "display(test_statistic)"
   ]
  },
  {
   "cell_type": "markdown",
   "metadata": {},
   "source": [
    "The result:\n",
    "$$t = -0.849 $$\n",
    "$$p = 0.396 $$\n",
    "\n",
    "$p > \\alpha$ Therefore we fail to reject the null hypothesis."
   ]
  },
  {
   "cell_type": "markdown",
   "metadata": {},
   "source": [
    "## Relative difference between scores\n",
    "\n",
    "I want to calculate the difference between each pair of scores for each movie, we will call this the relative difference. We will create a new column and call it 'diff'. If:\n",
    "\n",
    "$diff < 0$ -> RT Audience are more critical \n",
    "\n",
    "$diff > 0$ -> RT critics are more critical\n",
    "\n",
    "$diff = 0$ -> RT critics and audience agree\n",
    "\n",
    "We can visualise this in a stacked bar graph.\n",
    "\n",
    "\n",
    "### Stacked bar graph of relative differences"
   ]
  },
  {
   "cell_type": "code",
   "execution_count": 6,
   "metadata": {},
   "outputs": [
    {
     "data": {
      "text/html": [
       "<div>\n",
       "<style scoped>\n",
       "    .dataframe tbody tr th:only-of-type {\n",
       "        vertical-align: middle;\n",
       "    }\n",
       "\n",
       "    .dataframe tbody tr th {\n",
       "        vertical-align: top;\n",
       "    }\n",
       "\n",
       "    .dataframe thead th {\n",
       "        text-align: right;\n",
       "    }\n",
       "</style>\n",
       "<table border=\"1\" class=\"dataframe\">\n",
       "  <thead>\n",
       "    <tr style=\"text-align: right;\">\n",
       "      <th></th>\n",
       "      <th>movie_title</th>\n",
       "      <th>tomatometer_rating</th>\n",
       "      <th>audience_rating</th>\n",
       "      <th>diff</th>\n",
       "    </tr>\n",
       "  </thead>\n",
       "  <tbody>\n",
       "    <tr>\n",
       "      <th>0</th>\n",
       "      <td>Percy Jackson &amp; the Olympians: The Lightning T...</td>\n",
       "      <td>49</td>\n",
       "      <td>53</td>\n",
       "      <td>-4</td>\n",
       "    </tr>\n",
       "    <tr>\n",
       "      <th>1</th>\n",
       "      <td>Please Give</td>\n",
       "      <td>86</td>\n",
       "      <td>64</td>\n",
       "      <td>22</td>\n",
       "    </tr>\n",
       "    <tr>\n",
       "      <th>2</th>\n",
       "      <td>10</td>\n",
       "      <td>68</td>\n",
       "      <td>53</td>\n",
       "      <td>15</td>\n",
       "    </tr>\n",
       "    <tr>\n",
       "      <th>3</th>\n",
       "      <td>12 Angry Men (Twelve Angry Men)</td>\n",
       "      <td>100</td>\n",
       "      <td>97</td>\n",
       "      <td>3</td>\n",
       "    </tr>\n",
       "    <tr>\n",
       "      <th>4</th>\n",
       "      <td>20,000 Leagues Under The Sea</td>\n",
       "      <td>89</td>\n",
       "      <td>74</td>\n",
       "      <td>15</td>\n",
       "    </tr>\n",
       "    <tr>\n",
       "      <th>...</th>\n",
       "      <td>...</td>\n",
       "      <td>...</td>\n",
       "      <td>...</td>\n",
       "      <td>...</td>\n",
       "    </tr>\n",
       "    <tr>\n",
       "      <th>16633</th>\n",
       "      <td>Zoot Suit</td>\n",
       "      <td>56</td>\n",
       "      <td>74</td>\n",
       "      <td>-18</td>\n",
       "    </tr>\n",
       "    <tr>\n",
       "      <th>16634</th>\n",
       "      <td>Zootopia</td>\n",
       "      <td>97</td>\n",
       "      <td>92</td>\n",
       "      <td>5</td>\n",
       "    </tr>\n",
       "    <tr>\n",
       "      <th>16635</th>\n",
       "      <td>Zorba the Greek</td>\n",
       "      <td>78</td>\n",
       "      <td>87</td>\n",
       "      <td>-9</td>\n",
       "    </tr>\n",
       "    <tr>\n",
       "      <th>16636</th>\n",
       "      <td>Zulu</td>\n",
       "      <td>95</td>\n",
       "      <td>91</td>\n",
       "      <td>4</td>\n",
       "    </tr>\n",
       "    <tr>\n",
       "      <th>16637</th>\n",
       "      <td>Zulu Dawn</td>\n",
       "      <td>57</td>\n",
       "      <td>62</td>\n",
       "      <td>-5</td>\n",
       "    </tr>\n",
       "  </tbody>\n",
       "</table>\n",
       "<p>16386 rows × 4 columns</p>\n",
       "</div>"
      ],
      "text/plain": [
       "                                             movie_title  tomatometer_rating  \\\n",
       "0      Percy Jackson & the Olympians: The Lightning T...                  49   \n",
       "1                                            Please Give                  86   \n",
       "2                                                     10                  68   \n",
       "3                        12 Angry Men (Twelve Angry Men)                 100   \n",
       "4                           20,000 Leagues Under The Sea                  89   \n",
       "...                                                  ...                 ...   \n",
       "16633                                          Zoot Suit                  56   \n",
       "16634                                           Zootopia                  97   \n",
       "16635                                    Zorba the Greek                  78   \n",
       "16636                                               Zulu                  95   \n",
       "16637                                          Zulu Dawn                  57   \n",
       "\n",
       "       audience_rating  diff  \n",
       "0                   53    -4  \n",
       "1                   64    22  \n",
       "2                   53    15  \n",
       "3                   97     3  \n",
       "4                   74    15  \n",
       "...                ...   ...  \n",
       "16633               74   -18  \n",
       "16634               92     5  \n",
       "16635               87    -9  \n",
       "16636               91     4  \n",
       "16637               62    -5  \n",
       "\n",
       "[16386 rows x 4 columns]"
      ]
     },
     "execution_count": 6,
     "metadata": {},
     "output_type": "execute_result"
    }
   ],
   "source": [
    "rt_ratings['diff'] = rt_ratings['tomatometer_rating'] - rt_ratings['audience_rating']\n",
    "rt_ratings"
   ]
  },
  {
   "cell_type": "code",
   "execution_count": 7,
   "metadata": {},
   "outputs": [],
   "source": [
    "from collections import OrderedDict\n",
    "\n",
    "def calc_perc(df, df2):\n",
    "    \"\"\"\n",
    "    Takes in a dataframe and calculates the percentage of that dataframe compared to a larger dataframe\n",
    "    \n",
    "    Input:\n",
    "    df - a dataframe\n",
    "    df2 - a dataframe\n",
    "    \n",
    "    Output:\n",
    "    the ratio of length between df and df2, mulpulied by 100.   \n",
    "    \"\"\"\n",
    "    return (len(df) / len(df2)) * 100\n",
    "\n",
    "def split_df_in3(df):\n",
    "    '''\n",
    "    splits the dataframe into 3 smaller dataframes, where the 'diff' values of the dataframe are negative,\n",
    "    positive and equal\n",
    "    \n",
    "    input:\n",
    "    df - dataframe to be split\n",
    "    \n",
    "    output:\n",
    "    a - dataframe where 'diff' < 0\n",
    "    b - dataframe where 'diff' > 0\n",
    "    c - dataframe where 'diff' == 0\n",
    "    '''\n",
    "    a = df[df['diff'] < 0]\n",
    "    b = df[df['diff'] > 0]\n",
    "    c = df[df['diff'] == 0]\n",
    "    return a, b, c\n",
    "\n",
    "\n",
    "def stacked_bar(dic):\n",
    "    '''\n",
    "    Takes in a dictionary of proportions as keys paired a description as values and produces a stacked barchart.\n",
    "    \n",
    "    Input:\n",
    "    dic - Dictionary with key = score, and value = string\n",
    "    \n",
    "    Ouptut:\n",
    "    Plots a stacked barchart\n",
    "    '''\n",
    "    a, b, c = dic.keys()\n",
    "    diff_df = pd.DataFrame({f\"{a:.2f}%: \" + dic[a] : [a], \n",
    "                        f\"{b:.2f}%: \" + dic[b]: [b] ,\n",
    "                        f\"{c:.2f}%: \" + dic[c] : [c]}, \n",
    "                      index=[''])\n",
    "\n",
    "    diff_df.plot(kind='barh', stacked=True)\n",
    "    sns.despine(left=True, bottom=True)\n",
    "    plt.legend(loc='upper center')\n",
    "    plt.show()\n"
   ]
  },
  {
   "cell_type": "code",
   "execution_count": 8,
   "metadata": {},
   "outputs": [
    {
     "data": {
      "image/png": "[encoded data removed]",
      "text/plain": [
       "<Figure size 1008x720 with 1 Axes>"
      ]
     },
     "metadata": {},
     "output_type": "display_data"
    }
   ],
   "source": [
    "RT_df_lst = split_df_in3(rt_ratings)\n",
    "\n",
    "# Finding the percentage of rt_ratings that 'diff' is negative, positive and equal to 0\n",
    "RT_audience_score, RT_critics_score, critics_audience_agreed_score = [calc_perc(df=i, df2=rt_ratings)\n",
    "                                                                         for i in RT_df_lst]\n",
    "\n",
    "RT_crit_aud_dict = OrderedDict([\n",
    "                                (RT_critics_score, \"Critics are more critical\"),\n",
    "                                (RT_audience_score, \"Audience are more critical\"),\n",
    "                                (critics_audience_agreed_score, \"Critics and Audience agree\")\n",
    "                                ])\n",
    "\n",
    "stacked_bar(RT_crit_aud_dict)"
   ]
  },
  {
   "cell_type": "markdown",
   "metadata": {},
   "source": [
    "Not suprisingly the critics are more critical than the audience. Though the difference is not as stark as I would have thought it would be. It also seems that the critics and the audience perfectly agree a very small amount of the time. The distribution of the difference is a little less black and white then what is displayed in the stacked barchart. We can use a histogram to see if the critics and the audience somewhat agree overall by looking at the distribution of this relative difference between the scores."
   ]
  },
  {
   "cell_type": "markdown",
   "metadata": {},
   "source": [
    "### Histogram of relative differences"
   ]
  },
  {
   "cell_type": "code",
   "execution_count": 9,
   "metadata": {},
   "outputs": [
    {
     "data": {
      "image/png": "[encoded data removed]",
      "text/plain": [
       "<Figure size 1008x720 with 1 Axes>"
      ]
     },
     "metadata": {},
     "output_type": "display_data"
    }
   ],
   "source": [
    "# distribution of the audience score\n",
    "distribution_plot(rt_ratings['diff'], \n",
    "                  title='Relative Difference Distribution',\n",
    "                  bar_color='tab:purple',\n",
    "                  x_label='Relative Difference Score')"
   ]
  },
  {
   "cell_type": "markdown",
   "metadata": {},
   "source": [
    "This distribution tends toward a normal distribution, where the audience and critcs tend to agree more often. The peak of the distribution is between 0 and 12. There is a secondary pattern I can see in the distribution, almost like an interference pattern, though I cannot figure out where that has come from. "
   ]
  },
  {
   "cell_type": "markdown",
   "metadata": {},
   "source": [
    "# Conclusion\n",
    "\n",
    "From this analysis of tomatometer scores and audience score we can say that there was more consensus between the audience compared to the critics in general. We found using a t-test that the difference in the means was not statistically significant. However I am not sure how valid the t-test was because the audience scores do have a somewhat normal distribution, but the critics scores do not. We also had a look at the relative difference between the two sets of scores for the movies, and found that in general the critics are more critical. Looking at the distribution of the relative difference between the scores, we can see that the distribution is quite normal, signifying some consensus between the critics and the audience."
   ]
  },
  {
   "cell_type": "markdown",
   "metadata": {},
   "source": [
    "# References\n",
    "\n",
    "[1] https://medium.com/python-in-plain-english/statistical-tests-with-python-880251e9b572 - To figure out what statisitcal test to do. Very helpful flowchart of statistical tests."
   ]
  }
 ],
 "metadata": {
  "kernelspec": {
   "display_name": "Python 3",
   "language": "python",
   "name": "python3"
  },
  "language_info": {
   "codemirror_mode": {
    "name": "ipython",
    "version": 3
   },
   "file_extension": ".py",
   "mimetype": "text/x-python",
   "name": "python",
   "nbconvert_exporter": "python",
   "pygments_lexer": "ipython3",
   "version": "3.7.8"
  },
  "toc": {
   "base_numbering": 1,
   "nav_menu": {},
   "number_sections": true,
   "sideBar": true,
   "skip_h1_title": false,
   "title_cell": "Table of Contents",
   "title_sidebar": "Contents",
   "toc_cell": false,
   "toc_position": {},
   "toc_section_display": true,
   "toc_window_display": false
  }
 },
 "nbformat": 4,
 "nbformat_minor": 4
}
