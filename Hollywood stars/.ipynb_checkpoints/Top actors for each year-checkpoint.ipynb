{
 "cells": [
  {
   "cell_type": "code",
   "execution_count": 3,
   "metadata": {
    "collapsed": true
   },
   "outputs": [],
   "source": [
    "%matplotlib inline\n",
    "\n",
    "import pandas as pd\n",
    "import numpy as np\n",
    "import matplotlib.pyplot as plt\n",
    "import json\n",
    "\n",
    "plt.style.use('seaborn') # Make the graphs a bit prettier\n",
    "plt.rcParams['figure.figsize'] = (15, 5)"
   ]
  },
  {
   "cell_type": "markdown",
   "metadata": {},
   "source": [
    "We will import the movie credits database and work with that"
   ]
  },
  {
   "cell_type": "code",
   "execution_count": 4,
   "metadata": {},
   "outputs": [
    {
     "data": {
      "text/html": [
       "<div>\n",
       "<style>\n",
       "    .dataframe thead tr:only-child th {\n",
       "        text-align: right;\n",
       "    }\n",
       "\n",
       "    .dataframe thead th {\n",
       "        text-align: left;\n",
       "    }\n",
       "\n",
       "    .dataframe tbody tr th {\n",
       "        vertical-align: top;\n",
       "    }\n",
       "</style>\n",
       "<table border=\"1\" class=\"dataframe\">\n",
       "  <thead>\n",
       "    <tr style=\"text-align: right;\">\n",
       "      <th></th>\n",
       "      <th>cast</th>\n",
       "      <th>id</th>\n",
       "    </tr>\n",
       "  </thead>\n",
       "  <tbody>\n",
       "    <tr>\n",
       "      <th>0</th>\n",
       "      <td>[{'cast_id': 14, 'character': 'Woody (voice)',...</td>\n",
       "      <td>862</td>\n",
       "    </tr>\n",
       "    <tr>\n",
       "      <th>1</th>\n",
       "      <td>[{'cast_id': 1, 'character': 'Alan Parrish', '...</td>\n",
       "      <td>8844</td>\n",
       "    </tr>\n",
       "    <tr>\n",
       "      <th>2</th>\n",
       "      <td>[{'cast_id': 2, 'character': 'Max Goldman', 'c...</td>\n",
       "      <td>15602</td>\n",
       "    </tr>\n",
       "    <tr>\n",
       "      <th>3</th>\n",
       "      <td>[{'cast_id': 1, 'character': \"Savannah 'Vannah...</td>\n",
       "      <td>31357</td>\n",
       "    </tr>\n",
       "    <tr>\n",
       "      <th>4</th>\n",
       "      <td>[{'cast_id': 1, 'character': 'George Banks', '...</td>\n",
       "      <td>11862</td>\n",
       "    </tr>\n",
       "  </tbody>\n",
       "</table>\n",
       "</div>"
      ],
      "text/plain": [
       "                                                cast     id\n",
       "0  [{'cast_id': 14, 'character': 'Woody (voice)',...    862\n",
       "1  [{'cast_id': 1, 'character': 'Alan Parrish', '...   8844\n",
       "2  [{'cast_id': 2, 'character': 'Max Goldman', 'c...  15602\n",
       "3  [{'cast_id': 1, 'character': \"Savannah 'Vannah...  31357\n",
       "4  [{'cast_id': 1, 'character': 'George Banks', '...  11862"
      ]
     },
     "execution_count": 4,
     "metadata": {},
     "output_type": "execute_result"
    }
   ],
   "source": [
    "df = pd.read_csv('movies_data/credits.csv')\n",
    "\n",
    "del df['crew']\n",
    "\n",
    "df.head()"
   ]
  },
  {
   "cell_type": "code",
   "execution_count": 5,
   "metadata": {},
   "outputs": [
    {
     "data": {
      "text/plain": [
       "\"[{'cast_id': 14, 'character': 'Woody (voice)', 'credit_id': '52fe4284c3a36847f8024f95', 'gender': 2, 'id': 31, 'name': 'Tom Hanks', 'order': 0, 'profile_path': '/pQFoyx7rp09CJTAb932F2g8Nlho.jpg'}, {'cast_id': 15, 'character': 'Buzz Lightyear (voice)', 'credit_id': '52fe4284c3a36847f8024f99', 'gender': 2, 'id': 12898, 'name': 'Tim Allen', 'order': 1, 'profile_path': '/uX2xVf6pMmPepxnvFWyBtjexzgY.jpg'}, {'cast_id': 16, 'character': 'Mr. Potato Head (voice)', 'credit_id': '52fe4284c3a36847f8024f9d', 'gender': 2, 'id': 7167, 'name': 'Don Rickles', 'order': 2, 'profile_path': '/h5BcaDMPRVLHLDzbQavec4xfSdt.jpg'}, {'cast_id': 17, 'character': 'Slinky Dog (voice)', 'credit_id': '52fe4284c3a36847f8024fa1', 'gender': 2, 'id': 12899, 'name': 'Jim Varney', 'order': 3, 'profile_path': '/eIo2jVVXYgjDtaHoF19Ll9vtW7h.jpg'}, {'cast_id': 18, 'character': 'Rex (voice)', 'credit_id': '52fe4284c3a36847f8024fa5', 'gender': 2, 'id': 12900, 'name': 'Wallace Shawn', 'order': 4, 'profile_path': '/oGE6JqPP2xH4tNORKNqxbNPYi7u.jpg'}, {'cast_id': 19, 'character': 'Hamm (voice)', 'credit_id': '52fe4284c3a36847f8024fa9', 'gender': 2, 'id': 7907, 'name': 'John Ratzenberger', 'order': 5, 'profile_path': '/yGechiKWL6TJDfVE2KPSJYqdMsY.jpg'}, {'cast_id': 20, 'character': 'Bo Peep (voice)', 'credit_id': '52fe4284c3a36847f8024fad', 'gender': 1, 'id': 8873, 'name': 'Annie Potts', 'order': 6, 'profile_path': '/eryXT84RL41jHSJcMy4kS3u9y6w.jpg'}, {'cast_id': 26, 'character': 'Andy (voice)', 'credit_id': '52fe4284c3a36847f8024fc1', 'gender': 0, 'id': 1116442, 'name': 'John Morris', 'order': 7, 'profile_path': '/vYGyvK4LzeaUCoNSHtsuqJUY15M.jpg'}, {'cast_id': 22, 'character': 'Sid (voice)', 'credit_id': '52fe4284c3a36847f8024fb1', 'gender': 2, 'id': 12901, 'name': 'Erik von Detten', 'order': 8, 'profile_path': '/twnF1ZaJ1FUNUuo6xLXwcxjayBE.jpg'}, {'cast_id': 23, 'character': 'Mrs. Davis (voice)', 'credit_id': '52fe4284c3a36847f8024fb5', 'gender': 1, 'id': 12133, 'name': 'Laurie Metcalf', 'order': 9, 'profile_path': '/unMMIT60eoBM2sN2nyR7EZ2BvvD.jpg'}, {'cast_id': 24, 'character': 'Sergeant (voice)', 'credit_id': '52fe4284c3a36847f8024fb9', 'gender': 2, 'id': 8655, 'name': 'R. Lee Ermey', 'order': 10, 'profile_path': '/r8GBqFBjypLUP9VVqDqfZ7wYbSs.jpg'}, {'cast_id': 25, 'character': 'Hannah (voice)', 'credit_id': '52fe4284c3a36847f8024fbd', 'gender': 1, 'id': 12903, 'name': 'Sarah Freeman', 'order': 11, 'profile_path': None}, {'cast_id': 27, 'character': 'TV Announcer (voice)', 'credit_id': '52fe4284c3a36847f8024fc5', 'gender': 2, 'id': 37221, 'name': 'Penn Jillette', 'order': 12, 'profile_path': '/zmAaXUdx12NRsssgHbk1T31j2x9.jpg'}]\""
      ]
     },
     "execution_count": 5,
     "metadata": {},
     "output_type": "execute_result"
    }
   ],
   "source": [
    "df.iloc[0, 0]"
   ]
  },
  {
   "cell_type": "code",
   "execution_count": 14,
   "metadata": {},
   "outputs": [
    {
     "name": "stdout",
     "output_type": "stream",
     "text": [
      "[{'cast_id': 14, 'character': 'Woody (voice)', 'credit_id': '52fe4284c3a36847f8024f95', 'gender': 2, 'id': 31, 'name': 'Tom Hanks', 'order': 0, 'profile_path': '/pQFoyx7rp09CJTAb932F2g8Nlho.jpg'}, {'cast_id': 15, 'character': 'Buzz Lightyear (voice)', 'credit_id': '52fe4284c3a36847f8024f99', 'gender': 2, 'id': 12898, 'name': 'Tim Allen', 'order': 1, 'profile_path': '/uX2xVf6pMmPepxnvFWyBtjexzgY.jpg'}, {'cast_id': 16, 'character': 'Mr. Potato Head (voice)', 'credit_id': '52fe4284c3a36847f8024f9d', 'gender': 2, 'id': 7167, 'name': 'Don Rickles', 'order': 2, 'profile_path': '/h5BcaDMPRVLHLDzbQavec4xfSdt.jpg'}, {'cast_id': 17, 'character': 'Slinky Dog (voice)', 'credit_id': '52fe4284c3a36847f8024fa1', 'gender': 2, 'id': 12899, 'name': 'Jim Varney', 'order': 3, 'profile_path': '/eIo2jVVXYgjDtaHoF19Ll9vtW7h.jpg'}, {'cast_id': 18, 'character': 'Rex (voice)', 'credit_id': '52fe4284c3a36847f8024fa5', 'gender': 2, 'id': 12900, 'name': 'Wallace Shawn', 'order': 4, 'profile_path': '/oGE6JqPP2xH4tNORKNqxbNPYi7u.jpg'}, {'cast_id': 19, 'character': 'Hamm (voice)', 'credit_id': '52fe4284c3a36847f8024fa9', 'gender': 2, 'id': 7907, 'name': 'John Ratzenberger', 'order': 5, 'profile_path': '/yGechiKWL6TJDfVE2KPSJYqdMsY.jpg'}, {'cast_id': 20, 'character': 'Bo Peep (voice)', 'credit_id': '52fe4284c3a36847f8024fad', 'gender': 1, 'id': 8873, 'name': 'Annie Potts', 'order': 6, 'profile_path': '/eryXT84RL41jHSJcMy4kS3u9y6w.jpg'}, {'cast_id': 26, 'character': 'Andy (voice)', 'credit_id': '52fe4284c3a36847f8024fc1', 'gender': 0, 'id': 1116442, 'name': 'John Morris', 'order': 7, 'profile_path': '/vYGyvK4LzeaUCoNSHtsuqJUY15M.jpg'}, {'cast_id': 22, 'character': 'Sid (voice)', 'credit_id': '52fe4284c3a36847f8024fb1', 'gender': 2, 'id': 12901, 'name': 'Erik von Detten', 'order': 8, 'profile_path': '/twnF1ZaJ1FUNUuo6xLXwcxjayBE.jpg'}, {'cast_id': 23, 'character': 'Mrs. Davis (voice)', 'credit_id': '52fe4284c3a36847f8024fb5', 'gender': 1, 'id': 12133, 'name': 'Laurie Metcalf', 'order': 9, 'profile_path': '/unMMIT60eoBM2sN2nyR7EZ2BvvD.jpg'}, {'cast_id': 24, 'character': 'Sergeant (voice)', 'credit_id': '52fe4284c3a36847f8024fb9', 'gender': 2, 'id': 8655, 'name': 'R. Lee Ermey', 'order': 10, 'profile_path': '/r8GBqFBjypLUP9VVqDqfZ7wYbSs.jpg'}, {'cast_id': 25, 'character': 'Hannah (voice)', 'credit_id': '52fe4284c3a36847f8024fbd', 'gender': 1, 'id': 12903, 'name': 'Sarah Freeman', 'order': 11, 'profile_path': None}, {'cast_id': 27, 'character': 'TV Announcer (voice)', 'credit_id': '52fe4284c3a36847f8024fc5', 'gender': 2, 'id': 37221, 'name': 'Penn Jillette', 'order': 12, 'profile_path': '/zmAaXUdx12NRsssgHbk1T31j2x9.jpg'}]\n"
     ]
    }
   ],
   "source": [
    "import ast\n",
    "\n",
    "cast1 = df.iloc[0,0]\n",
    "cast1 = ast.literal_eval(cast1)\n",
    "print(cast1)"
   ]
  },
  {
   "cell_type": "code",
   "execution_count": 18,
   "metadata": {},
   "outputs": [],
   "source": [
    "a = cast1[1]"
   ]
  },
  {
   "cell_type": "code",
   "execution_count": 23,
   "metadata": {},
   "outputs": [],
   "source": [
    "for entry in cast1:\n",
    "    del entry['profile_path'], entry['credit_id'], entry['cast_id'], entry['id']"
   ]
  },
  {
   "cell_type": "code",
   "execution_count": 24,
   "metadata": {},
   "outputs": [
    {
     "name": "stdout",
     "output_type": "stream",
     "text": [
      "{'character': 'Buzz Lightyear (voice)', 'gender': 2, 'name': 'Tim Allen', 'order': 1}\n"
     ]
    }
   ],
   "source": [
    "print(a)"
   ]
  },
  {
   "cell_type": "markdown",
   "metadata": {},
   "source": [
    "turn the entire cast colum into a list"
   ]
  },
  {
   "cell_type": "code",
   "execution_count": 25,
   "metadata": {},
   "outputs": [
    {
     "name": "stdout",
     "output_type": "stream",
     "text": [
      "<bound method NDFrame.head of                                                     cast      id\n",
      "0      [{'cast_id': 14, 'character': 'Woody (voice)',...     862\n",
      "1      [{'cast_id': 1, 'character': 'Alan Parrish', '...    8844\n",
      "2      [{'cast_id': 2, 'character': 'Max Goldman', 'c...   15602\n",
      "3      [{'cast_id': 1, 'character': \"Savannah 'Vannah...   31357\n",
      "4      [{'cast_id': 1, 'character': 'George Banks', '...   11862\n",
      "5      [{'cast_id': 25, 'character': 'Lt. Vincent Han...     949\n",
      "6      [{'cast_id': 1, 'character': 'Linus Larrabee',...   11860\n",
      "7      [{'cast_id': 2, 'character': 'Tom Sawyer', 'cr...   45325\n",
      "8      [{'cast_id': 1, 'character': 'Darren Francis T...    9091\n",
      "9      [{'cast_id': 1, 'character': 'James Bond', 'cr...     710\n",
      "10     [{'cast_id': 1, 'character': 'Andrew Shepherd'...    9087\n",
      "11     [{'cast_id': 9, 'character': 'Count Dracula', ...   12110\n",
      "12     [{'cast_id': 1, 'character': 'Balto (voice)', ...   21032\n",
      "13     [{'cast_id': 1, 'character': 'Richard Nixon', ...   10858\n",
      "14     [{'cast_id': 1, 'character': 'Morgan Adams', '...    1408\n",
      "15     [{'cast_id': 4, 'character': \"Sam 'Ace' Rothst...     524\n",
      "16     [{'cast_id': 6, 'character': 'Marianne Dashwoo...    4584\n",
      "17     [{'cast_id': 42, 'character': 'Ted the Bellhop...       5\n",
      "18     [{'cast_id': 1, 'character': 'Ace Ventura', 'c...    9273\n",
      "19     [{'cast_id': 1, 'character': 'John', 'credit_i...   11517\n",
      "20     [{'cast_id': 1, 'character': 'Chili Palmer', '...    8012\n",
      "21     [{'cast_id': 8, 'character': 'Helen Hudson', '...    1710\n",
      "22     [{'cast_id': 1, 'character': 'Robert Rath', 'c...    9691\n",
      "23     [{'cast_id': 1, 'character': 'Jessie Caldwell'...   12665\n",
      "24     [{'cast_id': 1, 'character': 'Ben Sanderson', ...     451\n",
      "25     [{'cast_id': 2, 'character': 'Othello', 'credi...   16420\n",
      "26     [{'cast_id': 9, 'character': 'Young Roberta Ma...    9263\n",
      "27     [{'cast_id': 1, 'character': 'Anne Elliott', '...   17015\n",
      "28     [{'cast_id': 24, 'character': 'One', 'credit_i...     902\n",
      "29     [{'cast_id': 2, 'character': 'Xiao Jingbao', '...   37557\n",
      "...                                                  ...     ...\n",
      "45446  [{'cast_id': 1, 'character': 'Gillian Grady', ...   45527\n",
      "45447                                                 []  455661\n",
      "45448  [{'cast_id': 2, 'character': 'André Hazes', 'c...  327237\n",
      "45449  [{'cast_id': 2, 'character': 'Paula Dupree - t...   84710\n",
      "45450  [{'cast_id': 1, 'character': 'Alyson', 'credit...   39562\n",
      "45451  [{'cast_id': 1, 'character': 'Kelly Collins', ...   14008\n",
      "45452                                                 []   44330\n",
      "45453  [{'cast_id': 2, 'character': '', 'credit_id': ...   49279\n",
      "45454  [{'cast_id': 2, 'character': 'The Magician', '...   44333\n",
      "45455  [{'cast_id': 2, 'character': '', 'credit_id': ...   49277\n",
      "45456  [{'cast_id': 2, 'character': 'Le Concierge', '...   49271\n",
      "45457  [{'cast_id': 2, 'character': 'Man with whisker...   44324\n",
      "45458                                                 []  122036\n",
      "45459  [{'cast_id': 1, 'character': 'Roo (voice)', 'c...   14885\n",
      "45460  [{'cast_id': 3, 'character': 'All the members ...   49280\n",
      "45461  [{'cast_id': 2, 'character': '', 'credit_id': ...  106807\n",
      "45462                                                 []  276895\n",
      "45463  [{'cast_id': 1, 'character': 'Devki Sabarwal',...  404604\n",
      "45464  [{'cast_id': 0, 'character': 'Lauren', 'credit...  420346\n",
      "45465  [{'cast_id': 5, 'character': '', 'credit_id': ...   67179\n",
      "45466  [{'cast_id': 5, 'character': 'The Creeper', 'c...   84419\n",
      "45467  [{'cast_id': 30, 'character': 'Debuty Hank Har...  390959\n",
      "45468  [{'cast_id': 2, 'character': 'Branwall', 'cred...  289923\n",
      "45469  [{'cast_id': 1, 'character': 'Kira (as Cassand...  222848\n",
      "45470  [{'cast_id': 1, 'character': 'Sir Robert Hode'...   30840\n",
      "45471  [{'cast_id': 0, 'character': '', 'credit_id': ...  439050\n",
      "45472  [{'cast_id': 1002, 'character': 'Sister Angela...  111109\n",
      "45473  [{'cast_id': 6, 'character': 'Emily Shaw', 'cr...   67758\n",
      "45474  [{'cast_id': 2, 'character': '', 'credit_id': ...  227506\n",
      "45475                                                 []  461257\n",
      "\n",
      "[45476 rows x 2 columns]>\n"
     ]
    }
   ],
   "source": [
    "df['cast'].apply(lambda x: ast.literal_eval(x))"
   ]
  },
  {
   "cell_type": "code",
   "execution_count": 26,
   "metadata": {},
   "outputs": [
    {
     "name": "stdout",
     "output_type": "stream",
     "text": [
      "[{'cast_id': 1, 'character': \"Savannah 'Vannah' Jackson\", 'credit_id': '52fe44779251416c91011aad', 'gender': 1, 'id': 8851, 'name': 'Whitney Houston', 'order': 0, 'profile_path': '/69ouDnXnmklYPr4sMJXWKYz81AL.jpg'}, {'cast_id': 2, 'character': \"Bernadine 'Bernie' Harris\", 'credit_id': '52fe44779251416c91011ab1', 'gender': 1, 'id': 9780, 'name': 'Angela Bassett', 'order': 1, 'profile_path': '/tHkgSzhEuJKp5hqp0DZLad8HNZ9.jpg'}, {'cast_id': 3, 'character': \"Gloria 'Glo' Matthews\", 'credit_id': '52fe44779251416c91011ab5', 'gender': 1, 'id': 18284, 'name': 'Loretta Devine', 'order': 2, 'profile_path': '/zLQFwQTFtHkb8sbFdkPNamFI7jv.jpg'}, {'cast_id': 4, 'character': 'Robin Stokes', 'credit_id': '52fe44779251416c91011ab9', 'gender': 1, 'id': 51359, 'name': 'Lela Rochon', 'order': 3, 'profile_path': '/9DBu3r5O4fBosSS4FnSzFCVpm0O.jpg'}, {'cast_id': 5, 'character': 'Marvin King', 'credit_id': '52fe44779251416c91011abd', 'gender': 2, 'id': 66804, 'name': 'Gregory Hines', 'order': 4, 'profile_path': '/rvvQWFQGeGR14WFVNe0Qg1J7uVY.jpg'}, {'cast_id': 6, 'character': 'Kenneth Dawkins', 'credit_id': '52fe44779251416c91011ac1', 'gender': 2, 'id': 352, 'name': 'Dennis Haysbert', 'order': 5, 'profile_path': '/mn5Nc5Q31GslpVVWs8p41W4TBma.jpg'}, {'cast_id': 8, 'character': 'John Harris, Sr.', 'credit_id': '52fe44779251416c91011ac5', 'gender': 2, 'id': 87118, 'name': 'Michael Beach', 'order': 6, 'profile_path': '/lOlWhURNKyZHn71dvq7qC7fiwN6.jpg'}, {'cast_id': 10, 'character': 'Troy', 'credit_id': '52fe44779251416c91011acf', 'gender': 2, 'id': 34, 'name': 'Mykelti Williamson', 'order': 7, 'profile_path': '/8TTxzpuvvpw2tB8xZBCDslYupNU.jpg'}, {'cast_id': 20, 'character': 'Joseph', 'credit_id': '56d1b15fc3a3681e4a008b6b', 'gender': 2, 'id': 1276777, 'name': 'Lamont Johnson', 'order': 8, 'profile_path': '/wfZzRPJBdsx62GbkUimc1PShxyC.jpg'}, {'cast_id': 21, 'character': 'James Wheeler', 'credit_id': '56f8a929c3a36816e80084f3', 'gender': 2, 'id': 10814, 'name': 'Wesley Snipes', 'order': 9, 'profile_path': '/hQ6EBa6vgu7HoZpzms8Y10VL5Iw.jpg'}]\n"
     ]
    }
   ],
   "source": [
    "print(df.iloc[3,0])"
   ]
  },
  {
   "cell_type": "markdown",
   "metadata": {},
   "source": [
    "Go through each row and delete the 'profile_path', 'credit_id', 'cast_id', 'id'"
   ]
  },
  {
   "cell_type": "code",
   "execution_count": 28,
   "metadata": {},
   "outputs": [
    {
     "ename": "SyntaxError",
     "evalue": "invalid syntax (<ipython-input-28-d6acb8441b7b>, line 2)",
     "output_type": "error",
     "traceback": [
      "\u001b[1;36m  File \u001b[1;32m\"<ipython-input-28-d6acb8441b7b>\"\u001b[1;36m, line \u001b[1;32m2\u001b[0m\n\u001b[1;33m    lambda y: del y['profile_path'], y['credit_id'], y['cast_id'], y['id']\u001b[0m\n\u001b[1;37m                ^\u001b[0m\n\u001b[1;31mSyntaxError\u001b[0m\u001b[1;31m:\u001b[0m invalid syntax\n"
     ]
    }
   ],
   "source": [
    "df['cast'].apply[lambda x: \n",
    "                     lambda y: del y['profile_path'], y['credit_id'], y['cast_id'], y['id']\n",
    "                \n",
    "                \n",
    "                ]\n",
    "\n",
    "print(df.head())"
   ]
  },
  {
   "cell_type": "code",
   "execution_count": null,
   "metadata": {
    "collapsed": true
   },
   "outputs": [],
   "source": []
  }
 ],
 "metadata": {
  "kernelspec": {
   "display_name": "Python 3",
   "language": "python",
   "name": "python3"
  },
  "language_info": {
   "codemirror_mode": {
    "name": "ipython",
    "version": 3
   },
   "file_extension": ".py",
   "mimetype": "text/x-python",
   "name": "python",
   "nbconvert_exporter": "python",
   "pygments_lexer": "ipython3",
   "version": "3.6.3"
  }
 },
 "nbformat": 4,
 "nbformat_minor": 2
}
